{
 "cells": [
  {
   "cell_type": "code",
   "execution_count": 11,
   "metadata": {},
   "outputs": [
    {
     "data": {
      "text/plain": [
       "['circle.9.jpg',\n",
       " 'circle.8.jpg',\n",
       " 'circle.11.jpg',\n",
       " 'circle.6.jpg',\n",
       " 'circle.1.jpg',\n",
       " 'circle.10.jpg',\n",
       " 'circle.16.jpg',\n",
       " 'circle.15.jpg',\n",
       " 'circle.0.jpg',\n",
       " 'circle.18.jpg',\n",
       " 'circle.2.jpg',\n",
       " 'circle.4.jpg',\n",
       " 'circle.17.jpg',\n",
       " 'circle.3.jpg',\n",
       " 'circle.5.jpg',\n",
       " 'circle.13.jpg',\n",
       " 'circle.7.jpg',\n",
       " 'circle.12.jpg',\n",
       " 'circle.14.jpg',\n",
       " 'circle.19.jpg']"
      ]
     },
     "execution_count": 11,
     "metadata": {},
     "output_type": "execute_result"
    }
   ],
   "source": [
    "import os\n",
    "\n",
    "figure = \"circle\"\n",
    "path = \"../../Figure_project/data/\" + figure + \"/\"\n",
    "\n",
    "for idx, n in enumerate(os.listdir(path)):\n",
    "    new_name = path + figure + \".\" + str(idx) + \".jpg\"\n",
    "    os.rename(path + n, new_name)\n",
    "    \n",
    "os.listdir(path)"
   ]
  },
  {
   "cell_type": "code",
   "execution_count": 10,
   "metadata": {},
   "outputs": [],
   "source": [
    "\n"
   ]
  },
  {
   "cell_type": "code",
   "execution_count": null,
   "metadata": {},
   "outputs": [],
   "source": []
  }
 ],
 "metadata": {
  "kernelspec": {
   "display_name": "ml_venv",
   "language": "python",
   "name": "python3"
  },
  "language_info": {
   "codemirror_mode": {
    "name": "ipython",
    "version": 3
   },
   "file_extension": ".py",
   "mimetype": "text/x-python",
   "name": "python",
   "nbconvert_exporter": "python",
   "pygments_lexer": "ipython3",
   "version": "3.10.12"
  }
 },
 "nbformat": 4,
 "nbformat_minor": 2
}
